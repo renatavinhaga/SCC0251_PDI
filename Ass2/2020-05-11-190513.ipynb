{
 "cells": [
  {
   "cell_type": "code",
   "execution_count": 1,
   "metadata": {
    "collapsed": false
   },
   "outputs": [
   ],
   "source": [
    "import numpy as np \n",
    "import imageio"
   ]
  },
  {
   "cell_type": "code",
   "execution_count": 2,
   "metadata": {
    "collapsed": false
   },
   "outputs": [
   ],
   "source": [
    "#Euclidian Distance between x and y\n",
    "def E(x, y):\n",
    "\treturn np.sqrt(x*x + y*y)\n",
    "\n",
    "# 1D Gaussian\n",
    "def G(x, Sigma):\n",
    "\treturn (np.exp(-(x * x)/(2 * Sigma * Sigma))/(2 * np.pi * Sigma * Sigma))\n",
    "\n",
    "#add 0 columms and rows to the matrix m according to the parameter 'add'\n",
    "def padding(m, add):\n",
    "\treturn np.pad(m, [(add, add), (add, add)], mode='constant', constant_values=0)\n",
    "\n",
    "#remove the added 0 columns and rows\n",
    "def unpadding(m, sub):\n",
    "\treturn m[sub:m.shape[0]-sub, sub:m.shape[1]-sub]\n",
    "\n",
    "#Calculate de difference between the original picture and new one\n",
    "def Error(m, r):\n",
    "\treturn np.sqrt(np.sum((m - r)**2))\n",
    "\n",
    "#normalize the matrix m (0 - 255)\n",
    "def normalize(m):\n",
    "\treturn ((m - m.min()) * 255)/(m.max() - m.min())\n",
    "\n",
    "# Return the Spatial Gaussian Kernel \n",
    "def Spatial_Gaussian(SigmaS, n):\n",
    "\ta = -int((n-1)/2)\n",
    "\tb = int((n-1)/2)\n",
    "\tGs = np.zeros((n,n))\n",
    "\tfor x in range(a,b + 1):\n",
    "\t\tfor y in range(a,b + 1):\n",
    "\t\t\tGs[x-a][y-a] = G(E(x,y), SigmaS)\n",
    "\n",
    "\treturn Gs\n",
    "\n",
    "# Return the Range Gaussian Kernel \n",
    "def Range_Gaussian(m, SigmaR, n):\n",
    "\ta = -int((n-1)/2)\n",
    "\tb = int((n-1)/2)\n",
    "\tcenter = m[b][b]\n",
    "\tGs = np.zeros((n,n))\n",
    "\tfor x in range(0,n):\n",
    "\t\tfor y in range(0, n):\n",
    "\t\t\tGs[x][y] = G(m[x][y] - center, SigmaR) \n",
    "\treturn Gs\n",
    "\n",
    "#split a region of the matrix m to apply the filter desired\n",
    "def cut_region(m,x,y,a,b):\n",
    "\treturn m[x-a : x + (a+1), y-b : y+(b+1)];"
   ]
  },
  {
   "cell_type": "code",
   "execution_count": 3,
   "metadata": {
    "collapsed": false
   },
   "outputs": [
   ],
   "source": [
    "# Apply the Bilateral Filter\n",
    "def method1(I, n, SigmaS, SigmaR):\n",
    "\tN,M = I.shape #dimension of f\n",
    "\tWp = np.zeros((n,n))\n",
    "\ta = int((n-1)/2)\n",
    "\tb = int((n-1)/2)\n",
    "\tI = padding(I, a)\n",
    "\tIf = np.zeros(I.shape)\n",
    "\tGs = Spatial_Gaussian(SigmaS, n)\n",
    "\tW = 0\n",
    "\t\n",
    "\tfor x in range(a, N+1):\n",
    "\t\tfor y in range(b, M+1):\n",
    "\t\t\tregion = cut_region(I,x,y,a,b)\n",
    "\t\t\tGr = Range_Gaussian(region, SigmaR, n)\n",
    "\t\t\tWp = Gr * Gs\n",
    "\t\t\tW = np.sum(Wp)\n",
    "\t\t\tIf[x,y] = np.sum(np.multiply(Wp, region))\n",
    "\t\t\tIf[x,y] = If[x,y]/W\n",
    "\t\t\t\n",
    "\n",
    "\tI = unpadding(I, a)\n",
    "\tIf = unpadding(If, a)\n",
    "\n",
    "\treturn If"
   ]
  },
  {
   "cell_type": "code",
   "execution_count": 4,
   "metadata": {
    "collapsed": false
   },
   "outputs": [
   ],
   "source": [
    "# Unsharp mask using the Laplacian Filter\n",
    "def method2(f, kernel, c):\n",
    "\tN,M = f.shape #dimension of f\n",
    "\tn,m = 3,3\n",
    "\ta = int((n-1)/2)\n",
    "\tb = int((n-1)/2)\n",
    "\tf = padding(f, a)\n",
    "\tI = np.zeros(f.shape)\n",
    "\t#choose the kernel\n",
    "\tif kernel == 1:\n",
    "\t\tk = np.matrix([[0, -1, 0],[-1, 4, -1], [0, -1, 0]])\n",
    "\telse:\t\n",
    "\t\tk = np.matrix([[-1, -1, -1],[-1, 8, -1], [-1, -1, -1]])\n",
    "\t\n",
    "\tfor x in range(a, N+1):\n",
    "\t\tfor y in range(b, M+1):\n",
    "\t\t\tregion = cut_region(f,x,y,a,b)\n",
    "\t\t\tI[x,y] = np.sum(np.multiply(k, region))\n",
    "\n",
    "\tf = unpadding(f, a)\n",
    "\tI = unpadding(I, a)\t\n",
    "\n",
    "\tI = normalize(I)\n",
    "\tr = c * I + f\n",
    "\treturn normalize(r)\n"
   ]
  },
  {
   "cell_type": "code",
   "execution_count": 5,
   "metadata": {
    "collapsed": false
   },
   "outputs": [
   ],
   "source": [
    "#Apply the Vignette Filter\n",
    "def method3(m, SigmaRow, SigmaCol):\n",
    "\tM,N = m.shape\n",
    "\tkRow = np.zeros((1,M)) #kernel for the Row\n",
    "\tkCol = np.zeros((1,N)) #kernel for the Column\n",
    "\t#Row\n",
    "\t#differing if the size of Row is even or not\n",
    "\tif M % 2 == 0: \n",
    "\t\ta = int((M/2)) -1\n",
    "\telse:\n",
    "\t\ta = int(M/2)\n",
    "\tfor x in range(-a, int(M/2)):\n",
    "\t\tkRow[0][x+a] = G(x, SigmaRow)\n",
    "\n",
    "\t#Col\n",
    "\t#differing if the size of Col is even or not\n",
    "\tif N % 2 == 0:\n",
    "\t\tb = int((N/2)) -1 \n",
    "\telse:\n",
    "\t\tb = int(N/2)\n",
    "\tfor x in range(-b, int(N/2)):\n",
    "\t\tkCol[0][x+b] = G(x, SigmaCol)\n",
    "\n",
    "\tfilter_ = kRow.transpose() * kCol\n",
    "\n",
    "\treturn normalize(filter_ * m)\n"
   ]
  },
  {
   "cell_type": "code",
   "execution_count": 6,
   "metadata": {
    "cocalc": {
     "outputs": {
      "0": {
       "name": "input",
       "opts": {
        "password": false,
        "prompt": ""
       },
       "output_type": "stream"
      }
     }
    },
    "collapsed": false
   },
   "outputs": [
    {
     "name": "stdout",
     "output_type": "stream",
     "text": " "
    }
   ],
   "source": [
    "def main():\n",
    "\tfilename = str(input()).rstrip()\n",
    "\t#m = imageio.imread(\"imgs/\" + filename) #to test on my computer\n",
    "\tm = imageio.imread(filename)\n",
    "\tmethod = int(input())\n",
    "\tsave = int(input())\n",
    "\t\n",
    "\tm = np.asarray(m, dtype = float)\n",
    "\n",
    "\tif method == 1:\n",
    "\t\tn = int(input())\n",
    "\t\ts = float(input())\n",
    "\t\tr = float(input())\n",
    "\t\toutput_img = method1(m, n, s, r)\n",
    "\n",
    "\tif method == 2:\n",
    "\t\tc = float(input())\n",
    "\t\tkernel = int(input())\n",
    "\t\toutput_img = method2(m, kernel, c)\n",
    "\n",
    "\tif method == 3:\n",
    "\t\trow = float(input())\n",
    "\t\tcol = float(input())\n",
    "\t\toutput_img = method3(m, row, col)\n",
    "\n",
    "\tprint(\"{:.4f}\".format(Error(m,output_img)))\n",
    "\n",
    "\toutput_img = np.asarray(output_img, dtype=\"uint8\")\n",
    "\n",
    "\tif save == 1:\n",
    "\t\timageio.imwrite('output_img.png', output_img)\n",
    "\n",
    "\n",
    "if __name__ == \"__main__\":\n",
    "\tmain()"
   ]
  },
  {
   "cell_type": "code",
   "execution_count": 0,
   "metadata": {
    "collapsed": false
   },
   "outputs": [
   ],
   "source": [
   ]
  }
 ],
 "metadata": {
  "kernelspec": {
   "display_name": "Python 3 (system-wide)",
   "language": "python",
   "metadata": {
    "cocalc": {
     "description": "Python 3 programming language",
     "priority": 100,
     "url": "https://www.python.org/"
    }
   },
   "name": "python3"
  },
  "language_info": {
   "codemirror_mode": {
    "name": "ipython",
    "version": 3
   },
   "file_extension": ".py",
   "mimetype": "text/x-python",
   "name": "python",
   "nbconvert_exporter": "python",
   "pygments_lexer": "ipython3",
   "version": "3.6.9"
  }
 },
 "nbformat": 4,
 "nbformat_minor": 4
}